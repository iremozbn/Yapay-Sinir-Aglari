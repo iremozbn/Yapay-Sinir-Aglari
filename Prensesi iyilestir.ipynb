{
 "cells": [
  {
   "cell_type": "code",
   "execution_count": 1,
   "id": "818423dc",
   "metadata": {},
   "outputs": [],
   "source": [
    "import torch\n",
    "import torch.nn as nn\n",
    "import torch.optim as optim\n",
    "import numpy as np\n",
    "import pandas as pd"
   ]
  },
  {
   "cell_type": "code",
   "execution_count": 2,
   "id": "bdd71a92",
   "metadata": {},
   "outputs": [],
   "source": [
    "train_df = pd.read_csv(r\"C:\\Users\\iremo\\OneDrive\\Desktop\\cure_the_princess_train.csv\")\n",
    "test_df = pd.read_csv(r\"C:\\Users\\iremo\\OneDrive\\Desktop\\cure_the_princess_test.csv\")\n",
    "val_df = pd.read_csv(r\"C:\\Users\\iremo\\OneDrive\\Desktop\\cure_the_princess_validation.csv\")"
   ]
  },
  {
   "cell_type": "code",
   "execution_count": 3,
   "id": "a45fa3ab",
   "metadata": {},
   "outputs": [],
   "source": [
    "X_train = train_df.drop(columns=[\"Cured\"]).values\n",
    "y_train = train_df[\"Cured\"].values\n",
    "\n",
    "X_test = test_df.drop(columns=[\"Cured\"]).values\n",
    "y_test = test_df[\"Cured\"].values\n",
    "\n",
    "X_val = val_df.drop(columns=[\"Cured\"]).values\n",
    "y_val = val_df[\"Cured\"].values"
   ]
  },
  {
   "cell_type": "code",
   "execution_count": 4,
   "id": "af6eb3bb",
   "metadata": {},
   "outputs": [],
   "source": [
    "X_train = torch.tensor(X_train, dtype=torch.float32)\n",
    "y_train = torch.tensor(y_train, dtype=torch.float32)\n",
    "\n",
    "X_test = torch.tensor(X_test, dtype=torch.float32)\n",
    "y_test = torch.tensor(y_test, dtype=torch.float32)\n",
    "\n",
    "X_val = torch.tensor(X_val, dtype=torch.float32)\n",
    "y_val = torch.tensor(y_val, dtype=torch.float32)"
   ]
  },
  {
   "cell_type": "code",
   "execution_count": 5,
   "id": "5908ce21",
   "metadata": {},
   "outputs": [],
   "source": [
    "class MLP(nn.Module):\n",
    "    def __init__(self, input_dim, hidden_dim1, hidden_dim2, output_dim):\n",
    "        super().__init__()\n",
    "        self.fc1 = nn.Linear(input_dim, hidden_dim1)\n",
    "        self.fc2 = nn.Linear(hidden_dim1, hidden_dim2)\n",
    "        self.fc3 = nn.Linear(hidden_dim2, output_dim)\n",
    "        self.relu = nn.ReLU()\n",
    "        self.sigmoid = nn.Sigmoid()\n",
    "\n",
    "    def forward(self, x):\n",
    "        x = self.relu(self.fc1(x))\n",
    "        x = self.relu(self.fc2(x))\n",
    "        x = self.sigmoid(self.fc3(x))\n",
    "        return x"
   ]
  },
  {
   "cell_type": "code",
   "execution_count": 9,
   "id": "78fbe1e9",
   "metadata": {},
   "outputs": [
    {
     "name": "stdout",
     "output_type": "stream",
     "text": [
      "Epoch 1, Training Loss: 0.0378, Validation Loss: 0.4267\n",
      "Epoch 2, Training Loss: 0.0275, Validation Loss: 0.3488\n",
      "Epoch 3, Training Loss: 0.0225, Validation Loss: 0.3219\n",
      "Epoch 4, Training Loss: 0.0195, Validation Loss: 0.2967\n",
      "Epoch 5, Training Loss: 0.0174, Validation Loss: 0.2900\n",
      "Epoch 6, Training Loss: 0.0159, Validation Loss: 0.2748\n",
      "Epoch 7, Training Loss: 0.0145, Validation Loss: 0.2563\n",
      "Epoch 8, Training Loss: 0.0134, Validation Loss: 0.2622\n",
      "Epoch 9, Training Loss: 0.0125, Validation Loss: 0.2523\n",
      "Epoch 10, Training Loss: 0.0117, Validation Loss: 0.2475\n",
      "Epoch 11, Training Loss: 0.0110, Validation Loss: 0.2211\n",
      "Epoch 12, Training Loss: 0.0103, Validation Loss: 0.2055\n",
      "Epoch 13, Training Loss: 0.0097, Validation Loss: 0.2024\n",
      "Epoch 14, Training Loss: 0.0092, Validation Loss: 0.1830\n",
      "Epoch 15, Training Loss: 0.0087, Validation Loss: 0.1790\n",
      "Epoch 16, Training Loss: 0.0083, Validation Loss: 0.1713\n",
      "Epoch 17, Training Loss: 0.0080, Validation Loss: 0.1692\n",
      "Epoch 18, Training Loss: 0.0077, Validation Loss: 0.1756\n",
      "Epoch 19, Training Loss: 0.0075, Validation Loss: 0.1611\n",
      "Epoch 20, Training Loss: 0.0072, Validation Loss: 0.1588\n",
      "Epoch 21, Training Loss: 0.0069, Validation Loss: 0.1581\n",
      "Epoch 22, Training Loss: 0.0066, Validation Loss: 0.1567\n",
      "Epoch 23, Training Loss: 0.0064, Validation Loss: 0.1518\n",
      "Epoch 24, Training Loss: 0.0061, Validation Loss: 0.1553\n",
      "Epoch 25, Training Loss: 0.0059, Validation Loss: 0.1483\n",
      "Epoch 26, Training Loss: 0.0057, Validation Loss: 0.1472\n",
      "Epoch 27, Training Loss: 0.0055, Validation Loss: 0.1482\n",
      "Epoch 28, Training Loss: 0.0053, Validation Loss: 0.1472\n"
     ]
    }
   ],
   "source": [
    "torch.manual_seed(190401069)\n",
    "y_train = y_train.reshape(-1, 1)\n",
    "y_val = y_val.reshape(-1, 1)\n",
    "\n",
    "model = MLP(input_dim=X_train.shape[1], hidden_dim1=100, hidden_dim2=50, output_dim=1)\n",
    "\n",
    "criterion = nn.BCELoss()\n",
    "\n",
    "optimizer = optim.SGD(model.parameters(), lr=0.01)\n",
    "\n",
    "num_epochs = 28\n",
    "batch_size = 16\n",
    "\n",
    "best_accuracy = 0.0\n",
    "\n",
    "train_losses = []\n",
    "val_losses = []\n",
    "for epoch in range(num_epochs):\n",
    "    train_loss = 0.0\n",
    "    val_loss = 0.0\n",
    "    for i in range(0, len(X_train), batch_size):\n",
    "        batch_X = X_train[i:i+batch_size]\n",
    "        batch_y = y_train[i:i+batch_size]\n",
    "\n",
    "        optimizer.zero_grad()\n",
    "\n",
    "        y_pred = model(batch_X)\n",
    "        loss = criterion(y_pred, batch_y)\n",
    "\n",
    "        loss.backward()\n",
    "\n",
    "        optimizer.step()\n",
    "        \n",
    "        train_loss += loss.item()\n",
    "    with torch.no_grad():\n",
    "        y_val_pred = model(X_val)\n",
    "        val_loss = criterion(y_val_pred, y_val)\n",
    "        val_losses.append(val_loss.item())\n",
    "\n",
    "    torch.save(model.state_dict(), 'best_model.pt')\n",
    "    model.load_state_dict(torch.load('best_model.pt'))\n",
    "        \n",
    "    train_loss /= len(X_train)\n",
    "    train_losses.append(train_loss)\n",
    "    print(f\"Epoch {epoch+1}, Training Loss: {train_loss:.4f}, Validation Loss: {val_loss.item():.4f}\")\n"
   ]
  },
  {
   "cell_type": "code",
   "execution_count": 13,
   "id": "746c5f2b",
   "metadata": {},
   "outputs": [
    {
     "name": "stdout",
     "output_type": "stream",
     "text": [
      "Accuracy: 0.9495\n",
      "F1 Score: 0.9486\n",
      "Precision: 0.9704\n",
      "Recall: 0.9278\n"
     ]
    }
   ],
   "source": [
    "from sklearn.metrics import accuracy_score, f1_score, precision_score, recall_score\n",
    "\n",
    "model.load_state_dict(torch.load('best_model.pt'))\n",
    "y_test_pred = model(X_test)\n",
    "y_test_pred = (y_test_pred > 0.5).float() # binary classification için threshold\n",
    "accuracy = accuracy_score(y_test, y_test_pred)\n",
    "f1 = f1_score(y_test, y_test_pred)\n",
    "precision = precision_score(y_test, y_test_pred)\n",
    "recall = recall_score(y_test, y_test_pred)\n",
    "\n",
    "print(\"Accuracy: {:.4f}\".format(accuracy))\n",
    "print(\"F1 Score: {:.4f}\".format(f1))\n",
    "print(\"Precision: {:.4f}\".format(precision))\n",
    "print(\"Recall: {:.4f}\".format(recall))\n"
   ]
  },
  {
   "cell_type": "code",
   "execution_count": null,
   "id": "0d21f5aa",
   "metadata": {},
   "outputs": [],
   "source": []
  }
 ],
 "metadata": {
  "kernelspec": {
   "display_name": "Python 3 (ipykernel)",
   "language": "python",
   "name": "python3"
  },
  "language_info": {
   "codemirror_mode": {
    "name": "ipython",
    "version": 3
   },
   "file_extension": ".py",
   "mimetype": "text/x-python",
   "name": "python",
   "nbconvert_exporter": "python",
   "pygments_lexer": "ipython3",
   "version": "3.9.13"
  }
 },
 "nbformat": 4,
 "nbformat_minor": 5
}
